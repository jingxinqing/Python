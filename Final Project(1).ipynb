{
 "cells": [
  {
   "cell_type": "code",
   "execution_count": 1,
   "id": "af48a976",
   "metadata": {},
   "outputs": [
    {
     "name": "stdout",
     "output_type": "stream",
     "text": [
      "{'South': 5018, 'West': 2605, 'Northeast': 1674, 'Midwest': 3304}\n",
      "{'South': 331011, 'West': 259401, 'Northeast': 156891, 'Midwest': 211854}\n",
      "{'South': 2080097, 'West': 1781665, 'Northeast': 760200, 'Midwest': 1226462}\n",
      "Murder by Region\n",
      "   Incidents     Region\n",
      "0       5018      South\n",
      "1       2605       West\n",
      "2       1674  Northeast\n",
      "3       3304    Midwest\n"
     ]
    },
    {
     "data": {
      "image/png": "[encoded data removed]",
      "text/plain": [
       "<Figure size 432x288 with 1 Axes>"
      ]
     },
     "metadata": {
      "needs_background": "light"
     },
     "output_type": "display_data"
    },
    {
     "name": "stdout",
     "output_type": "stream",
     "text": [
      "Violent Crimes by Region\n",
      "   Incidents     Region\n",
      "0     331011      South\n",
      "1     259401       West\n",
      "2     156891  Northeast\n",
      "3     211854    Midwest\n"
     ]
    },
    {
     "data": {
      "image/png": "[encoded data removed]",
      "text/plain": [
       "<Figure size 432x288 with 1 Axes>"
      ]
     },
     "metadata": {
      "needs_background": "light"
     },
     "output_type": "display_data"
    },
    {
     "name": "stdout",
     "output_type": "stream",
     "text": [
      "Non-violent Crimes by Region\n",
      "   Incidents     Region\n",
      "0    2080097      South\n",
      "1    1781665       West\n",
      "2     760200  Northeast\n",
      "3    1226462    Midwest\n"
     ]
    },
    {
     "data": {
      "image/png": "[encoded data removed]",
      "text/plain": [
       "<Figure size 432x288 with 1 Axes>"
      ]
     },
     "metadata": {
      "needs_background": "light"
     },
     "output_type": "display_data"
    },
    {
     "name": "stdout",
     "output_type": "stream",
     "text": [
      "National Average Violent Crime 18807\n",
      "\n",
      "State                Crimes  Distance from Mean  \n",
      "ALABAMA               15,350    -3,457\n",
      "ALASKA                 4,697   -14,110\n",
      "ARIZONA               23,856     5,049\n",
      "ARKANSAS              12,048    -6,759\n",
      "CALIFORNIA           145,205   126,398\n",
      "COLORADO              15,533    -3,274\n",
      "CONNECTICUT            7,754   -11,053\n",
      "DELAWARE               2,359   -16,448\n",
      "DISTRICT OF COLUMBIA   7,711   -11,096\n",
      "FLORIDA               50,540    31,733\n",
      "GEORGIA               18,496      -311\n",
      "HAWAII                 3,331   -15,476\n",
      "IDAHO                  2,676   -16,131\n",
      "ILLINOIS              50,968    32,161\n",
      "INDIANA               21,325     2,518\n",
      "IOWA                   7,533   -11,274\n",
      "KANSAS                 7,982   -10,825\n",
      "KENTUCKY               8,342   -10,465\n",
      "LOUISIANA             16,444    -2,363\n",
      "MAINE                  1,254   -17,553\n",
      "MARYLAND              14,175    -4,632\n",
      "MASSACHUSETTS         24,155     5,348\n",
      "MICHIGAN              35,790    16,983\n",
      "MINNESOTA             11,618    -7,189\n",
      "MISSISSIPPI            3,256   -15,551\n",
      "MISSOURI              25,175     6,368\n",
      "MONTANA                1,952   -16,855\n",
      "NEBRASKA               4,401   -14,406\n",
      "NEVADA                18,823        16\n",
      "NEW HAMPSHIRE          2,413   -16,394\n",
      "NEW JERSEY            19,098       291\n",
      "NEW MEXICO             9,480    -9,327\n",
      "NEW YORK              66,581    47,774\n",
      "NORTH CAROLINA        16,846    -1,961\n",
      "NORTH DAKOTA           1,393   -17,414\n",
      "OHIO                  28,235     9,428\n",
      "OKLAHOMA              15,348    -3,459\n",
      "OREGON                 7,785   -11,022\n",
      "PENNSYLVANIA          32,877    14,070\n",
      "RHODE ISLAND           2,423   -16,384\n",
      "SOUTH CAROLINA         9,473    -9,334\n",
      "SOUTH DAKOTA           2,169   -16,638\n",
      "TENNESSEE             33,433    14,626\n",
      "TEXAS                 97,872    79,065\n",
      "UTAH                   5,679   -13,128\n",
      "VERMONT                  336   -18,471\n",
      "VIRGINIA               9,318    -9,489\n",
      "WASHINGTON            16,913    -1,894\n",
      "WEST VIRGINIA          2,701   -16,106\n",
      "WISCONSIN             15,265    -3,542\n",
      "WYOMING                  770   -18,037\n"
     ]
    }
   ],
   "source": [
    "import json\n",
    "import pandas as pd\n",
    "import matplotlib.pyplot as plt\n",
    "\n",
    "\n",
    "f = open(\"FBI_CrimeData_2016.json\", 'r')\n",
    "crime_list = json.load(f)\n",
    "#print(crime_list)\n",
    "#crime\n",
    "def accum_crime(key, crime, crime_list):\n",
    "    result = {}\n",
    "    for d in crime_list:\n",
    "        if d[key] in result:\n",
    "            result[d[key]] = int(d[crime]) + int(result[d[key]])\n",
    "        else:\n",
    "            result[d[key]] = int(d[crime])\n",
    "    return result\n",
    "\n",
    "#violent crime\n",
    "def accum_violent_crime(key, crime_list):\n",
    "    result = {}\n",
    "    for d in crime_list:\n",
    "        if d[key] in result:\n",
    "            result[d[key]] = int(d['Murder'])+ int(d['Rape'])+int(d['Robbery'])+int(d['Assault']) + int(result[d[key]])\n",
    "        else:\n",
    "            result[d[key]] = int(d['Murder'])+ int(d['Rape'])+int(d['Robbery'])+int(d['Assault'])\n",
    "    return result\n",
    "\n",
    " #nonviolent crime  \n",
    "def accum_nonviolent_crime(key, crime_list):\n",
    "    result = {}\n",
    "    for d in crime_list:\n",
    "        if d[key] in result:\n",
    "            result[d[key]] = int(d['Burglary'])+ int(d['Theft'])+int(d['Vehicle_Theft'])+ int(result[d[key]])\n",
    "        else:\n",
    "            result[d[key]] = int(d['Burglary'])+ int(d['Theft'])+int(d['Vehicle_Theft'])\n",
    "    return result\n",
    "\n",
    "murder_by_region = accum_crime('Region', 'Murder', crime_list)\n",
    "violent_by_region = accum_violent_crime('Region', crime_list)\n",
    "nonviolent_by_region = accum_nonviolent_crime('Region', crime_list)\n",
    "\n",
    "print(murder_by_region)  \n",
    "print(violent_by_region)\n",
    "print(nonviolent_by_region)\n",
    "\n",
    "#pie chart\n",
    "def crime_pie(d):\n",
    "    crime = []\n",
    "    region = []\n",
    "    \n",
    "    for key, value in d.items():\n",
    "        crime.append(value)\n",
    "        region.append(key)\n",
    "    d = {'Region':pd.Series(crime, index = region)}   \n",
    "    return d\n",
    "    \n",
    "#bar chart\n",
    "def crime_bar(d):\n",
    "    incidents = []\n",
    "    region = []\n",
    "    \n",
    "    for key, value in d.items():\n",
    "        incidents.append(value)\n",
    "        region.append(key)\n",
    "    d = {'Incidents':pd.Series(incidents), 'Region':pd.Series(region)}   \n",
    "    return d\n",
    "\n",
    "#Bar chart murder by region\n",
    "d_murder = crime_bar(murder_by_region)\n",
    "f_murder = pd.DataFrame(d_murder)\n",
    "print('Murder by Region')\n",
    "print(f_murder)\n",
    "f_murder.plot.bar(x='Region', y='Incidents',legend = False,color=['blue', 'orange', 'green', 'red'])\n",
    "plt.show()\n",
    "\n",
    "#Bar chart violent crimes by region\n",
    "d_violent = crime_bar(violent_by_region)\n",
    "f_violent = pd.DataFrame(d_violent)\n",
    "print('Violent Crimes by Region')\n",
    "print(f_violent)\n",
    "f_violent.plot.bar(x='Region', y='Incidents',legend = False,color=['blue', 'orange', 'green', 'red'])\n",
    "plt.show()\n",
    "\n",
    "#Bar chart nonviolent crimes by region\n",
    "d_nonviolent = crime_bar(nonviolent_by_region)\n",
    "f_nonviolent = pd.DataFrame(d_nonviolent)\n",
    "print('Non-violent Crimes by Region')\n",
    "print(f_nonviolent)\n",
    "f_nonviolent.plot.bar(x='Region', y='Incidents',legend = False,color=['blue', 'orange', 'green', 'red'])\n",
    "plt.show()\n",
    "\n",
    "#state\n",
    "violent_by_state = accum_violent_crime('State', crime_list)\n",
    "total = 0\n",
    "for state in violent_by_state:\n",
    "    total = total + violent_by_state[state]\n",
    "avg = int(total/51)\n",
    "print('National Average Violent Crime', avg)\n",
    "print()\n",
    "output = \"{:<20}{:8,}{:10,}\"\n",
    "print(\"{:21}{:8}{:20}\".format('State', 'Crimes', 'Distance from Mean'))\n",
    "for state, crimes in violent_by_state.items():\n",
    "    print(output.format(state, crimes, crimes-avg))\n",
    "    "
   ]
  },
  {
   "cell_type": "code",
   "execution_count": null,
   "id": "afa3fd08",
   "metadata": {},
   "outputs": [],
   "source": []
  },
  {
   "cell_type": "code",
   "execution_count": null,
   "id": "7c47ce28",
   "metadata": {},
   "outputs": [],
   "source": [
    "e"
   ]
  }
 ],
 "metadata": {
  "kernelspec": {
   "display_name": "Python 3",
   "language": "python",
   "name": "python3"
  },
  "language_info": {
   "codemirror_mode": {
    "name": "ipython",
    "version": 3
   },
   "file_extension": ".py",
   "mimetype": "text/x-python",
   "name": "python",
   "nbconvert_exporter": "python",
   "pygments_lexer": "ipython3",
   "version": "3.9.1"
  }
 },
 "nbformat": 4,
 "nbformat_minor": 5
}
